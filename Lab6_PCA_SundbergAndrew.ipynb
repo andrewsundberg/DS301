{
  "nbformat": 4,
  "nbformat_minor": 0,
  "metadata": {
    "kernelspec": {
      "name": "python3",
      "display_name": "Python 3"
    },
    "language_info": {
      "codemirror_mode": {
        "name": "ipython",
        "version": 3
      },
      "file_extension": ".py",
      "mimetype": "text/x-python",
      "name": "python",
      "nbconvert_exporter": "python",
      "pygments_lexer": "ipython3",
      "version": "3.7.3"
    },
    "colab": {
      "name": "Lab6:PCA_SundbergAndrew.ipynb",
      "provenance": [],
      "collapsed_sections": [],
      "include_colab_link": true
    },
    "accelerator": "GPU"
  },
  "cells": [
    {
      "cell_type": "markdown",
      "metadata": {
        "id": "view-in-github",
        "colab_type": "text"
      },
      "source": [
        "<a href=\"https://colab.research.google.com/github/andrewsundberg/DS301/blob/master/Lab6_PCA_SundbergAndrew.ipynb\" target=\"_parent\"><img src=\"https://colab.research.google.com/assets/colab-badge.svg\" alt=\"Open In Colab\"/></a>"
      ]
    },
    {
      "cell_type": "markdown",
      "metadata": {
        "id": "dzfSTCIHDFLV",
        "colab_type": "text"
      },
      "source": [
        "# Lab 6 - Principal Component Analysis"
      ]
    },
    {
      "cell_type": "markdown",
      "metadata": {
        "id": "XRQCsLenDFLW",
        "colab_type": "text"
      },
      "source": [
        "#### A large part of the code was taken from <br>\n",
        "#### 1. https://github.com/ageron/handson-ml <br>\n",
        "#### 2. https://www.kaggle.com/residentmario/dimensionality-reduction-and-pca-for-fashion-mnist"
      ]
    },
    {
      "cell_type": "code",
      "metadata": {
        "id": "m47tn52QDFLW",
        "colab_type": "code",
        "colab": {}
      },
      "source": [
        "import numpy as np\n",
        "import pandas as pd\n",
        "import matplotlib.pyplot as plt\n",
        "import seaborn as sns\n",
        "from sklearn.decomposition import PCA"
      ],
      "execution_count": 0,
      "outputs": []
    },
    {
      "cell_type": "markdown",
      "metadata": {
        "id": "q3LKSAbGDFLZ",
        "colab_type": "text"
      },
      "source": [
        "#### Load the Fashion MNIST dataset"
      ]
    },
    {
      "cell_type": "code",
      "metadata": {
        "id": "b6gwkjqBDFLa",
        "colab_type": "code",
        "outputId": "0c5c210a-1227-44b6-cd28-01de11c4a98b",
        "colab": {
          "base_uri": "https://localhost:8080/",
          "height": 35
        }
      },
      "source": [
        "from keras.datasets import fashion_mnist\n",
        "(X_train, y_train), (X_test, y_test) = fashion_mnist.load_data()"
      ],
      "execution_count": 0,
      "outputs": [
        {
          "output_type": "stream",
          "text": [
            "Using TensorFlow backend.\n"
          ],
          "name": "stderr"
        }
      ]
    },
    {
      "cell_type": "code",
      "metadata": {
        "id": "006zKhxGDFLc",
        "colab_type": "code",
        "outputId": "136d1552-784c-46b6-ad30-e5c4e5f0e563",
        "colab": {
          "base_uri": "https://localhost:8080/",
          "height": 287
        }
      },
      "source": [
        "plt.imshow(X_train[1])"
      ],
      "execution_count": 0,
      "outputs": [
        {
          "output_type": "execute_result",
          "data": {
            "text/plain": [
              "<matplotlib.image.AxesImage at 0x7f69782cff28>"
            ]
          },
          "metadata": {
            "tags": []
          },
          "execution_count": 5
        },
        {
          "output_type": "display_data",
          "data": {
            "image/png": "[encoded data removed]",
            "text/plain": [
              "<Figure size 432x288 with 1 Axes>"
            ]
          },
          "metadata": {
            "tags": []
          }
        }
      ]
    },
    {
      "cell_type": "code",
      "metadata": {
        "id": "w3qNYPXEDFLf",
        "colab_type": "code",
        "outputId": "7052f1d0-e4a6-47da-c3c5-f21d0bcbb4c0",
        "colab": {
          "base_uri": "https://localhost:8080/",
          "height": 35
        }
      },
      "source": [
        "X_train.shape"
      ],
      "execution_count": 0,
      "outputs": [
        {
          "output_type": "execute_result",
          "data": {
            "text/plain": [
              "(60000, 28, 28)"
            ]
          },
          "metadata": {
            "tags": []
          },
          "execution_count": 6
        }
      ]
    },
    {
      "cell_type": "code",
      "metadata": {
        "id": "cvBgqreEDFLh",
        "colab_type": "code",
        "colab": {}
      },
      "source": [
        "X_train=X_train.reshape(60000, 28*28)"
      ],
      "execution_count": 0,
      "outputs": []
    },
    {
      "cell_type": "code",
      "metadata": {
        "id": "6TCUNAz_DFLk",
        "colab_type": "code",
        "outputId": "06851424-723e-4c2d-e688-cf99c02c6b30",
        "colab": {
          "base_uri": "https://localhost:8080/",
          "height": 35
        }
      },
      "source": [
        "X_train.shape"
      ],
      "execution_count": 0,
      "outputs": [
        {
          "output_type": "execute_result",
          "data": {
            "text/plain": [
              "(60000, 784)"
            ]
          },
          "metadata": {
            "tags": []
          },
          "execution_count": 8
        }
      ]
    },
    {
      "cell_type": "code",
      "metadata": {
        "id": "GDgI1iaa0dmy",
        "colab_type": "code",
        "outputId": "4f385e54-fa57-4304-8982-1fb331a85346",
        "colab": {
          "base_uri": "https://localhost:8080/",
          "height": 35
        }
      },
      "source": [
        "X_test.shape"
      ],
      "execution_count": 0,
      "outputs": [
        {
          "output_type": "execute_result",
          "data": {
            "text/plain": [
              "(10000, 28, 28)"
            ]
          },
          "metadata": {
            "tags": []
          },
          "execution_count": 9
        }
      ]
    },
    {
      "cell_type": "code",
      "metadata": {
        "id": "lmUFzQPy0drv",
        "colab_type": "code",
        "colab": {}
      },
      "source": [
        "X_test=X_test.reshape(10000, 28*28)"
      ],
      "execution_count": 0,
      "outputs": []
    },
    {
      "cell_type": "code",
      "metadata": {
        "id": "8xvP02eo0dvG",
        "colab_type": "code",
        "outputId": "f1482d0c-23ff-436b-a693-effb90ae407e",
        "colab": {
          "base_uri": "https://localhost:8080/",
          "height": 35
        }
      },
      "source": [
        "X_test.shape"
      ],
      "execution_count": 0,
      "outputs": [
        {
          "output_type": "execute_result",
          "data": {
            "text/plain": [
              "(10000, 784)"
            ]
          },
          "metadata": {
            "tags": []
          },
          "execution_count": 11
        }
      ]
    },
    {
      "cell_type": "markdown",
      "metadata": {
        "id": "rjpSpK8sDFLm",
        "colab_type": "text"
      },
      "source": [
        "#### Projecting down to d = 4 dimensions"
      ]
    },
    {
      "cell_type": "markdown",
      "metadata": {
        "id": "KMzqlCNTKJWr",
        "colab_type": "text"
      },
      "source": [
        "#### The top *d* principal components are projected onto a hyperplane, which causes the dimensionality of the dataset to be reduced to *d* dimenions."
      ]
    },
    {
      "cell_type": "code",
      "metadata": {
        "id": "69HmZNsWDFLn",
        "colab_type": "code",
        "colab": {}
      },
      "source": [
        "pca = PCA(n_components = 8)\n",
        "X_train_pca=pca.fit_transform(X_train)\n",
        "X_test_pca = pca.transform(X_test)\n"
      ],
      "execution_count": 0,
      "outputs": []
    },
    {
      "cell_type": "markdown",
      "metadata": {
        "id": "NGvltPrQDFLp",
        "colab_type": "text"
      },
      "source": [
        "#### Explained Variance Ratio"
      ]
    },
    {
      "cell_type": "code",
      "metadata": {
        "id": "JLyzsrIdDFLq",
        "colab_type": "code",
        "outputId": "4813b7ab-f196-4995-d2ef-d7ee9e40df6a",
        "colab": {
          "base_uri": "https://localhost:8080/",
          "height": 52
        }
      },
      "source": [
        "pca.explained_variance_ratio_\n"
      ],
      "execution_count": 0,
      "outputs": [
        {
          "output_type": "execute_result",
          "data": {
            "text/plain": [
              "array([0.29039228, 0.1775531 , 0.06019222, 0.04957428, 0.03847655,\n",
              "       0.03460769, 0.02341691, 0.01905414])"
            ]
          },
          "metadata": {
            "tags": []
          },
          "execution_count": 13
        }
      ]
    },
    {
      "cell_type": "code",
      "metadata": {
        "id": "AzKBJH9KDFLs",
        "colab_type": "code",
        "outputId": "61b24e66-1d51-4857-fa0c-963396c123ea",
        "colab": {
          "base_uri": "https://localhost:8080/",
          "height": 287
        }
      },
      "source": [
        "sns.heatmap(pca.components_[0].reshape(28, 28), cmap='gray_r')"
      ],
      "execution_count": 0,
      "outputs": [
        {
          "output_type": "execute_result",
          "data": {
            "text/plain": [
              "<matplotlib.axes._subplots.AxesSubplot at 0x7f6976284da0>"
            ]
          },
          "metadata": {
            "tags": []
          },
          "execution_count": 14
        },
        {
          "output_type": "display_data",
          "data": {
            "image/png": "[encoded data removed]",
            "text/plain": [
              "<Figure size 432x288 with 2 Axes>"
            ]
          },
          "metadata": {
            "tags": []
          }
        }
      ]
    },
    {
      "cell_type": "markdown",
      "metadata": {
        "id": "_D6qUWX0DFLu",
        "colab_type": "text"
      },
      "source": [
        "#### Preserving the training set's variance"
      ]
    },
    {
      "cell_type": "markdown",
      "metadata": {
        "id": "2u1C8Z-5LvG9",
        "colab_type": "text"
      },
      "source": [
        "#### This step automatically selects a certain number of dimensions, that will sum to the specified variance."
      ]
    },
    {
      "cell_type": "code",
      "metadata": {
        "id": "w4oyHkHtDFLv",
        "colab_type": "code",
        "colab": {}
      },
      "source": [
        "pca = PCA()\n",
        "pca.fit(X_train)\n",
        "cumsum = np.cumsum(pca.explained_variance_ratio_)\n",
        "d1 = np.argmax(cumsum >= 0.25)+1\n",
        "d2 = np.argmax(cumsum >= 0.50)+1\n",
        "d3 = np.argmax(cumsum >= 0.75)+1\n",
        "d4 = np.argmax(cumsum >= 0.95)+1\n",
        "d5 = np.argmax(cumsum >= 1.00)+1"
      ],
      "execution_count": 0,
      "outputs": []
    },
    {
      "cell_type": "code",
      "metadata": {
        "id": "bsPSvq_dDFLx",
        "colab_type": "code",
        "outputId": "65627585-f395-46ae-bb8a-291e3ae55b76",
        "colab": {
          "base_uri": "https://localhost:8080/",
          "height": 121
        }
      },
      "source": [
        "print(\"The number of Principal Components required to obtain -\\n 1. 25% variance = \",d1,\" \\n 2. 50% variance = \",d2,\" \\n 3. 75% variance =\", d3,\"\\n 4. 95% variance = \",d4,\"\\n 5. 100% variance = \",d5)"
      ],
      "execution_count": 0,
      "outputs": [
        {
          "output_type": "stream",
          "text": [
            "The number of Principal Components required to obtain -\n",
            " 1. 25% variance =  1  \n",
            " 2. 50% variance =  3  \n",
            " 3. 75% variance = 14 \n",
            " 4. 95% variance =  187 \n",
            " 5. 100% variance =  784\n"
          ],
          "name": "stdout"
        }
      ]
    },
    {
      "cell_type": "markdown",
      "metadata": {
        "id": "nz0J18ENDFL0",
        "colab_type": "text"
      },
      "source": [
        "#### Compressing datasets using PCA"
      ]
    },
    {
      "cell_type": "markdown",
      "metadata": {
        "id": "LiePJkZUMXek",
        "colab_type": "text"
      },
      "source": [
        "#### We can compress datasets using PCA and therefore use it to acclerate ML algorithms!"
      ]
    },
    {
      "cell_type": "code",
      "metadata": {
        "id": "aKqA9mM-DFL1",
        "colab_type": "code",
        "colab": {}
      },
      "source": [
        "X_train=X_train.astype('float64')\n",
        "pca = PCA(n_components = 187)\n",
        "X_reduced = pca.fit_transform(X_train)\n",
        "X_recovered = pca.inverse_transform(X_reduced)"
      ],
      "execution_count": 0,
      "outputs": []
    },
    {
      "cell_type": "code",
      "metadata": {
        "id": "RThPxtCUPlsV",
        "colab_type": "code",
        "outputId": "0ca94f98-6ccb-4430-8e9f-ab3927b0721b",
        "colab": {
          "base_uri": "https://localhost:8080/",
          "height": 35
        }
      },
      "source": [
        "X_train.dtype"
      ],
      "execution_count": 0,
      "outputs": [
        {
          "output_type": "execute_result",
          "data": {
            "text/plain": [
              "dtype('float64')"
            ]
          },
          "metadata": {
            "tags": []
          },
          "execution_count": 18
        }
      ]
    },
    {
      "cell_type": "code",
      "metadata": {
        "id": "Yp4YW1C-SZ2x",
        "colab_type": "code",
        "outputId": "30ad041b-c38a-42ab-fbc8-a0f71ece15bc",
        "colab": {
          "base_uri": "https://localhost:8080/",
          "height": 35
        }
      },
      "source": [
        "X_train.nbytes"
      ],
      "execution_count": 0,
      "outputs": [
        {
          "output_type": "execute_result",
          "data": {
            "text/plain": [
              "376320000"
            ]
          },
          "metadata": {
            "tags": []
          },
          "execution_count": 19
        }
      ]
    },
    {
      "cell_type": "code",
      "metadata": {
        "id": "fVmHxoA1NSMC",
        "colab_type": "code",
        "outputId": "2763fe28-e613-433c-c69b-69aacfedbb10",
        "colab": {
          "base_uri": "https://localhost:8080/",
          "height": 35
        }
      },
      "source": [
        "X_train.dtype"
      ],
      "execution_count": 0,
      "outputs": [
        {
          "output_type": "execute_result",
          "data": {
            "text/plain": [
              "dtype('float64')"
            ]
          },
          "metadata": {
            "tags": []
          },
          "execution_count": 20
        }
      ]
    },
    {
      "cell_type": "code",
      "metadata": {
        "id": "EuvsT39lSm6f",
        "colab_type": "code",
        "outputId": "3ebb99e2-1973-4b84-db0e-c6eb5c876280",
        "colab": {
          "base_uri": "https://localhost:8080/",
          "height": 35
        }
      },
      "source": [
        "X_reduced.nbytes"
      ],
      "execution_count": 0,
      "outputs": [
        {
          "output_type": "execute_result",
          "data": {
            "text/plain": [
              "89760000"
            ]
          },
          "metadata": {
            "tags": []
          },
          "execution_count": 21
        }
      ]
    },
    {
      "cell_type": "code",
      "metadata": {
        "id": "LxD9dh36NWvI",
        "colab_type": "code",
        "outputId": "12401a20-34a3-4f6d-c757-87b224512edb",
        "colab": {
          "base_uri": "https://localhost:8080/",
          "height": 35
        }
      },
      "source": [
        "X_reduced.dtype"
      ],
      "execution_count": 0,
      "outputs": [
        {
          "output_type": "execute_result",
          "data": {
            "text/plain": [
              "dtype('float64')"
            ]
          },
          "metadata": {
            "tags": []
          },
          "execution_count": 22
        }
      ]
    },
    {
      "cell_type": "markdown",
      "metadata": {
        "id": "CczvR4WSNVio",
        "colab_type": "text"
      },
      "source": [
        ""
      ]
    },
    {
      "cell_type": "code",
      "metadata": {
        "id": "VeDgDSQwDFL3",
        "colab_type": "code",
        "colab": {}
      },
      "source": [
        "\n",
        "def plot_digits(instances, images_per_row=5, **options):\n",
        "    size = 28\n",
        "    images_per_row = min(len(instances), images_per_row)\n",
        "    images = [instance.reshape(size,size) for instance in instances]\n",
        "    n_rows = (len(instances) - 1) // images_per_row + 1\n",
        "    row_images = []\n",
        "    n_empty = n_rows * images_per_row - len(instances)\n",
        "    images.append(np.zeros((size, size * n_empty)))\n",
        "    for row in range(n_rows):\n",
        "        rimages = images[row * images_per_row : (row + 1) * images_per_row]\n",
        "        row_images.append(np.concatenate(rimages, axis=1))\n",
        "    image = np.concatenate(row_images, axis=0)\n",
        "    plt.imshow(image, **options)\n",
        "    plt.axis(\"off\")"
      ],
      "execution_count": 0,
      "outputs": []
    },
    {
      "cell_type": "code",
      "metadata": {
        "id": "Gkz_MaWtDFL5",
        "colab_type": "code",
        "outputId": "9dc08655-6a10-4d6f-df1d-ff10e578d803",
        "colab": {
          "base_uri": "https://localhost:8080/",
          "height": 297
        }
      },
      "source": [
        "plt.figure(figsize=(7, 4))\n",
        "plt.subplot(121)\n",
        "plot_digits(X_train[::2100])\n",
        "plt.title(\"Original\", fontsize=16)\n",
        "plt.subplot(122)\n",
        "plot_digits(X_recovered[::2100])\n",
        "plt.title(\"Recovered after compression\", fontsize=16)\n",
        "\n"
      ],
      "execution_count": 0,
      "outputs": [
        {
          "output_type": "execute_result",
          "data": {
            "text/plain": [
              "Text(0.5, 1.0, 'Recovered after compression')"
            ]
          },
          "metadata": {
            "tags": []
          },
          "execution_count": 24
        },
        {
          "output_type": "display_data",
          "data": {
            "image/png": "[encoded data removed]",
            "text/plain": [
              "<Figure size 504x288 with 2 Axes>"
            ]
          },
          "metadata": {
            "tags": []
          }
        }
      ]
    },
    {
      "cell_type": "markdown",
      "metadata": {
        "id": "FfDAEvP-zqFp",
        "colab_type": "text"
      },
      "source": [
        "## Fit and predict X_train vs X_train_pca with Classifier"
      ]
    },
    {
      "cell_type": "markdown",
      "metadata": {
        "id": "WzTypqD7ZAHK",
        "colab_type": "text"
      },
      "source": [
        "To mesuare your running time (timer) sample code:\n",
        "\n",
        "from timeit import default_timer as timer\n",
        "\n",
        "start = timer()\n",
        "# ...\n",
        "end = timer()\n",
        "print(end - start) # Time in seconds, e.g. 5.38091952400282"
      ]
    },
    {
      "cell_type": "markdown",
      "metadata": {
        "id": "73nTbyjVL-UN",
        "colab_type": "text"
      },
      "source": [
        "Using LogisticRegression Classifier on PCA(n_components = 4)"
      ]
    },
    {
      "cell_type": "markdown",
      "metadata": {
        "id": "mOYZZltPj5dT",
        "colab_type": "text"
      },
      "source": [
        "Scaler:\n",
        "\n",
        "\n",
        "from sklearn.preprocessing import StandardScaler\n",
        "\n",
        "x = StandardScaler().fit_transform(x)"
      ]
    },
    {
      "cell_type": "code",
      "metadata": {
        "id": "kjL_E_Gtj4VO",
        "colab_type": "code",
        "colab": {}
      },
      "source": [
        "#from sklearn.preprocessing import StandardScaler\n",
        "#X_train = StandardScaler().fit_transform(X_train)\n",
        "#X_test = StandardScaler().fit_transform(X_test)\n",
        "\n",
        "\n",
        "\n",
        "from sklearn.preprocessing import StandardScaler\n",
        "scaler = StandardScaler()\n",
        "# Fit on training set only.\n",
        "scaler.fit(X_train)\n",
        "# Apply transform to both the training set and the test set.\n",
        "X_train = scaler.transform(X_train)\n",
        "X_test = scaler.transform(X_test)\n"
      ],
      "execution_count": 0,
      "outputs": []
    },
    {
      "cell_type": "code",
      "metadata": {
        "id": "aq2ljEkRj4Y3",
        "colab_type": "code",
        "colab": {}
      },
      "source": [
        "pca = PCA(n_components = 4)\n",
        "X_train_pca=pca.fit_transform(X_train)\n",
        "X_test_pca = pca.transform(X_test)"
      ],
      "execution_count": 0,
      "outputs": []
    },
    {
      "cell_type": "code",
      "metadata": {
        "id": "kCSGntESj4dB",
        "colab_type": "code",
        "outputId": "a950ce93-6586-43bd-f192-09eebe9a4d47",
        "colab": {
          "base_uri": "https://localhost:8080/",
          "height": 107
        }
      },
      "source": [
        "from sklearn.linear_model import LogisticRegression\n",
        "\n",
        "# solver = 'lbfgs' for better performance\n",
        "\n",
        "from timeit import default_timer as timer\n",
        "\n",
        "start = timer()\n",
        "\n",
        "\n",
        "log_clf = LogisticRegression(solver = 'lbfgs', multi_class='auto')\n",
        "\n",
        "log_clf.fit(X_train_pca, y_train)\n",
        "\n",
        "\n",
        "end = timer()\n",
        "print(\"LogisticRegression Classifier on PCA(n_components = 4) - Training time: \", end - start) # Time in seconds, e.g. 5.38091952400282\n",
        "print()"
      ],
      "execution_count": 0,
      "outputs": [
        {
          "output_type": "stream",
          "text": [
            "LogisticRegression Classifier on PCA(n_components = 4) - Training time:  7.032354080000005\n",
            "\n"
          ],
          "name": "stdout"
        },
        {
          "output_type": "stream",
          "text": [
            "/usr/local/lib/python3.6/dist-packages/sklearn/linear_model/logistic.py:947: ConvergenceWarning: lbfgs failed to converge. Increase the number of iterations.\n",
            "  \"of iterations.\", ConvergenceWarning)\n"
          ],
          "name": "stderr"
        }
      ]
    },
    {
      "cell_type": "code",
      "metadata": {
        "id": "Hcp-VIpBj4gc",
        "colab_type": "code",
        "colab": {}
      },
      "source": [
        "#predict\n",
        "y_pred = log_clf.predict(X_test_pca)"
      ],
      "execution_count": 0,
      "outputs": []
    },
    {
      "cell_type": "code",
      "metadata": {
        "id": "E63MxTi5j4jv",
        "colab_type": "code",
        "outputId": "d870f2c7-8d11-43a6-f5b7-d4812e91d203",
        "colab": {
          "base_uri": "https://localhost:8080/",
          "height": 35
        }
      },
      "source": [
        "from sklearn.metrics import accuracy_score\n",
        "\n",
        "print(\"LogisticRegression Classifier on Scale PCA(n_components = 4) - Accuracy: \",accuracy_score(y_test, y_pred))"
      ],
      "execution_count": 0,
      "outputs": [
        {
          "output_type": "stream",
          "text": [
            "LogisticRegression Classifier on Scale PCA(n_components = 4) - Accuracy:  0.6667\n"
          ],
          "name": "stdout"
        }
      ]
    },
    {
      "cell_type": "code",
      "metadata": {
        "id": "NFa4IHl71E1H",
        "colab_type": "code",
        "colab": {}
      },
      "source": [
        "pca = PCA(n_components = 4)\n",
        "X_train_pca=pca.fit_transform(X_train)\n",
        "X_test_pca = pca.transform(X_test)"
      ],
      "execution_count": 0,
      "outputs": []
    },
    {
      "cell_type": "code",
      "metadata": {
        "id": "rIAnoBhZbSxL",
        "colab_type": "code",
        "outputId": "5a553690-068c-4a7b-b9e7-9c3433b638f8",
        "colab": {
          "base_uri": "https://localhost:8080/",
          "height": 107
        }
      },
      "source": [
        "\n",
        "from sklearn.linear_model import LogisticRegression\n",
        "\n",
        "# solver = 'lbfgs' for better performance\n",
        "\n",
        "from timeit import default_timer as timer\n",
        "\n",
        "start = timer()\n",
        "\n",
        "\n",
        "log_clf = LogisticRegression(solver = 'lbfgs', multi_class='auto')\n",
        "\n",
        "log_clf.fit(X_train_pca, y_train)\n",
        "\n",
        "\n",
        "end = timer()\n",
        "print(\"LogisticRegression Classifier on PCA(n_components = 4) - Training time: \", end - start) # Time in seconds, e.g. 5.38091952400282\n",
        "print()"
      ],
      "execution_count": 0,
      "outputs": [
        {
          "output_type": "stream",
          "text": [
            "LogisticRegression Classifier on PCA(n_components = 4) - Training time:  6.9660118770002555\n",
            "\n"
          ],
          "name": "stdout"
        },
        {
          "output_type": "stream",
          "text": [
            "/usr/local/lib/python3.6/dist-packages/sklearn/linear_model/logistic.py:947: ConvergenceWarning: lbfgs failed to converge. Increase the number of iterations.\n",
            "  \"of iterations.\", ConvergenceWarning)\n"
          ],
          "name": "stderr"
        }
      ]
    },
    {
      "cell_type": "markdown",
      "metadata": {
        "id": "VkA1yLG8XN9A",
        "colab_type": "text"
      },
      "source": [
        "Reference for solver = 'lbfgs'\n",
        "\n",
        "https://scikit-learn.org/stable/modules/linear_model.html\n",
        "\n",
        "The “lbfgs” is an optimization algorithm that approximates the Broyden–Fletcher–Goldfarb–Shanno algorithm [8], which belongs to quasi-Newton methods. The “lbfgs” solver is recommended for use for small data-sets but for larger datasets its performance suffers. [9]"
      ]
    },
    {
      "cell_type": "code",
      "metadata": {
        "id": "6Hzw5RQINi0-",
        "colab_type": "code",
        "colab": {}
      },
      "source": [
        "#predict\n",
        "y_pred = log_clf.predict(X_test_pca)"
      ],
      "execution_count": 0,
      "outputs": []
    },
    {
      "cell_type": "code",
      "metadata": {
        "id": "tnTcQnjAbss_",
        "colab_type": "code",
        "outputId": "a1d043d6-cb92-4a27-8466-ce0c99927d27",
        "colab": {
          "base_uri": "https://localhost:8080/",
          "height": 35
        }
      },
      "source": [
        "from sklearn.metrics import accuracy_score\n",
        "\n",
        "print(\"LogisticRegression Classifier on PCA(n_components = 4) - Accuracy: \",accuracy_score(y_test, y_pred))"
      ],
      "execution_count": 0,
      "outputs": [
        {
          "output_type": "stream",
          "text": [
            "LogisticRegression Classifier on PCA(n_components = 4) - Accuracy:  0.6654\n"
          ],
          "name": "stdout"
        }
      ]
    },
    {
      "cell_type": "markdown",
      "metadata": {
        "id": "iyOKb6jLMGB6",
        "colab_type": "text"
      },
      "source": [
        "Using LogisticRegression Classifier on PCA(n_components = 14)"
      ]
    },
    {
      "cell_type": "code",
      "metadata": {
        "colab_type": "code",
        "id": "XZdIfISlMQ1A",
        "colab": {}
      },
      "source": [
        "pca = PCA(n_components = 14)\n",
        "X_train_pca=pca.fit_transform(X_train)\n",
        "X_test_pca = pca.transform(X_test)"
      ],
      "execution_count": 0,
      "outputs": []
    },
    {
      "cell_type": "code",
      "metadata": {
        "colab_type": "code",
        "outputId": "f767044d-5a57-4d73-9ad3-b40093fb6925",
        "id": "EQVm3oZFMDSH",
        "colab": {
          "base_uri": "https://localhost:8080/",
          "height": 89
        }
      },
      "source": [
        "\n",
        "from sklearn.linear_model import LogisticRegression\n",
        "\n",
        "\n",
        "start = timer()\n",
        "\n",
        "\n",
        "log_clf = LogisticRegression(solver = 'lbfgs', multi_class='auto')\n",
        "\n",
        "log_clf.fit(X_train_pca, y_train)\n",
        "\n",
        "\n",
        "end = timer()\n",
        "print(\"LogisticRegression Classifier on PCA(n_components = 14) - Training time: \", end - start) # Time in seconds, e.g. 5.38091952400282\n",
        "\n"
      ],
      "execution_count": 0,
      "outputs": [
        {
          "output_type": "stream",
          "text": [
            "LogisticRegression Classifier on PCA(n_components = 14) - Training time:  7.840585192999697\n"
          ],
          "name": "stdout"
        },
        {
          "output_type": "stream",
          "text": [
            "/usr/local/lib/python3.6/dist-packages/sklearn/linear_model/logistic.py:947: ConvergenceWarning: lbfgs failed to converge. Increase the number of iterations.\n",
            "  \"of iterations.\", ConvergenceWarning)\n"
          ],
          "name": "stderr"
        }
      ]
    },
    {
      "cell_type": "code",
      "metadata": {
        "id": "KTJj5tZjFW1e",
        "colab_type": "code",
        "outputId": "554a89c3-c5ed-46de-ee2b-46e3dad9e0b9",
        "colab": {
          "base_uri": "https://localhost:8080/",
          "height": 89
        }
      },
      "source": [
        "from sklearn.linear_model import LogisticRegression\n",
        "\n",
        "\n",
        "start = timer()\n",
        "\n",
        "\n",
        "log_clf = LogisticRegression(solver = 'lbfgs', multi_class='auto')\n",
        "\n",
        "log_clf.fit(X_train, y_train)\n",
        "\n",
        "\n",
        "end = timer()\n",
        "print(\"LogisticRegression Classifier on PCA(n_components = 14) - Training time: \", end - start) # Time in seconds, e.g. 5.38091952400282\n",
        "\n"
      ],
      "execution_count": 0,
      "outputs": [
        {
          "output_type": "stream",
          "text": [
            "LogisticRegression Classifier on PCA(n_components = 14) - Training time:  44.83803908799973\n"
          ],
          "name": "stdout"
        },
        {
          "output_type": "stream",
          "text": [
            "/usr/local/lib/python3.6/dist-packages/sklearn/linear_model/logistic.py:947: ConvergenceWarning: lbfgs failed to converge. Increase the number of iterations.\n",
            "  \"of iterations.\", ConvergenceWarning)\n"
          ],
          "name": "stderr"
        }
      ]
    },
    {
      "cell_type": "markdown",
      "metadata": {
        "id": "Ot8ygdTNGC4W",
        "colab_type": "text"
      },
      "source": [
        "The PCA train set only took 8 seconds compared to the normal train data set taking 45 seconds."
      ]
    },
    {
      "cell_type": "code",
      "metadata": {
        "id": "ysntUKrDEdbE",
        "colab_type": "code",
        "colab": {}
      },
      "source": [
        "#predict\n",
        "y_pred = log_clf.predict(X_test_pca)"
      ],
      "execution_count": 0,
      "outputs": []
    },
    {
      "cell_type": "code",
      "metadata": {
        "colab_type": "code",
        "outputId": "c024ab20-aa46-489e-c413-8c3c86ae6729",
        "id": "Q3EJbU8ZMDSO",
        "colab": {
          "base_uri": "https://localhost:8080/",
          "height": 35
        }
      },
      "source": [
        "from sklearn.metrics import accuracy_score\n",
        "\n",
        "print(\"LogisticRegression Classifier on PCA(n_components = 14) - Accuracy: \",accuracy_score(y_test, y_pred))"
      ],
      "execution_count": 0,
      "outputs": [
        {
          "output_type": "stream",
          "text": [
            "LogisticRegression Classifier on PCA(n_components = 14) - Accuracy:  0.7674\n"
          ],
          "name": "stdout"
        }
      ]
    },
    {
      "cell_type": "markdown",
      "metadata": {
        "colab_type": "text",
        "id": "5P28OztLXlkb"
      },
      "source": [
        "Using LogisticRegression Classifier on PCA(n_components = 187)"
      ]
    },
    {
      "cell_type": "code",
      "metadata": {
        "colab_type": "code",
        "id": "HLJUfVdYXlkc",
        "colab": {}
      },
      "source": [
        "pca = PCA(n_components = 187)\n",
        "X_train_pca=pca.fit_transform(X_train)\n",
        "X_test_pca = pca.transform(X_test)"
      ],
      "execution_count": 0,
      "outputs": []
    },
    {
      "cell_type": "code",
      "metadata": {
        "colab_type": "code",
        "outputId": "f8ca13e5-db96-4a3c-8b83-d4de9f58ca51",
        "id": "ISfFow2bXlkf",
        "colab": {
          "base_uri": "https://localhost:8080/",
          "height": 89
        }
      },
      "source": [
        "\n",
        "from sklearn.linear_model import LogisticRegression\n",
        "\n",
        "\n",
        "start = timer()\n",
        "\n",
        "\n",
        "log_clf = LogisticRegression(solver = 'lbfgs', multi_class='auto')\n",
        "\n",
        "log_clf.fit(X_train_pca, y_train)\n",
        "\n",
        "\n",
        "end = timer()\n",
        "print(\"LogisticRegression Classifier on PCA(n_components = 187) - Training time: \", end - start) # Time in seconds, e.g. 5.38091952400282\n"
      ],
      "execution_count": 0,
      "outputs": [
        {
          "output_type": "stream",
          "text": [
            "LogisticRegression Classifier on PCA(n_components = 187) - Training time:  15.487850092000144\n"
          ],
          "name": "stdout"
        },
        {
          "output_type": "stream",
          "text": [
            "/usr/local/lib/python3.6/dist-packages/sklearn/linear_model/logistic.py:947: ConvergenceWarning: lbfgs failed to converge. Increase the number of iterations.\n",
            "  \"of iterations.\", ConvergenceWarning)\n"
          ],
          "name": "stderr"
        }
      ]
    },
    {
      "cell_type": "code",
      "metadata": {
        "id": "FiJgCmwGEfQN",
        "colab_type": "code",
        "colab": {}
      },
      "source": [
        "#predict\n",
        "y_pred = log_clf.predict(X_test_pca)"
      ],
      "execution_count": 0,
      "outputs": []
    },
    {
      "cell_type": "code",
      "metadata": {
        "id": "YR0Syes16Lu5",
        "colab_type": "code",
        "outputId": "0ce13522-f5a8-4bc4-9221-2c5678ab97b7",
        "colab": {
          "base_uri": "https://localhost:8080/",
          "height": 35
        }
      },
      "source": [
        "from sklearn.metrics import accuracy_score\n",
        "\n",
        "print(\"LogisticRegression Classifier on PCA(n_components = 187) - Accuracy: \",accuracy_score(y_test, y_pred))"
      ],
      "execution_count": 0,
      "outputs": [
        {
          "output_type": "stream",
          "text": [
            "LogisticRegression Classifier on PCA(n_components = 187) - Accuracy:  0.8432\n"
          ],
          "name": "stdout"
        }
      ]
    },
    {
      "cell_type": "markdown",
      "metadata": {
        "colab_type": "text",
        "id": "kWV3dzstXxEZ"
      },
      "source": [
        "Using LogisticRegression Classifier on PCA(n_components = 784)"
      ]
    },
    {
      "cell_type": "code",
      "metadata": {
        "colab_type": "code",
        "id": "SFETs4kSXxEb",
        "colab": {}
      },
      "source": [
        "pca = PCA(n_components = 784)\n",
        "X_train_pca=pca.fit_transform(X_train)\n",
        "X_test_pca = pca.transform(X_test)"
      ],
      "execution_count": 0,
      "outputs": []
    },
    {
      "cell_type": "code",
      "metadata": {
        "colab_type": "code",
        "outputId": "a73a393d-14ef-4c49-d93e-a2a71be6aa3b",
        "id": "VOVJwbk_XxEd",
        "colab": {
          "base_uri": "https://localhost:8080/",
          "height": 89
        }
      },
      "source": [
        "\n",
        "from sklearn.linear_model import LogisticRegression\n",
        "\n",
        "\n",
        "start = timer()\n",
        "\n",
        "\n",
        "log_clf = LogisticRegression(solver = 'lbfgs', multi_class='auto')\n",
        "\n",
        "log_clf.fit(X_train_pca, y_train)\n",
        "\n",
        "\n",
        "end = timer()\n",
        "print(\"LogisticRegression Classifier on PCA(n_components = 784) - Training time: \", end - start) # Time in seconds, e.g. 5.38091952400282\n",
        "\n",
        "\n"
      ],
      "execution_count": 0,
      "outputs": [
        {
          "output_type": "stream",
          "text": [
            "LogisticRegression Classifier on PCA(n_components = 784) - Training time:  45.19282134600007\n"
          ],
          "name": "stdout"
        },
        {
          "output_type": "stream",
          "text": [
            "/usr/local/lib/python3.6/dist-packages/sklearn/linear_model/logistic.py:947: ConvergenceWarning: lbfgs failed to converge. Increase the number of iterations.\n",
            "  \"of iterations.\", ConvergenceWarning)\n"
          ],
          "name": "stderr"
        }
      ]
    },
    {
      "cell_type": "code",
      "metadata": {
        "id": "xDhyNHCKEg0a",
        "colab_type": "code",
        "colab": {}
      },
      "source": [
        "#predict\n",
        "y_pred = log_clf.predict(X_test_pca)"
      ],
      "execution_count": 0,
      "outputs": []
    },
    {
      "cell_type": "code",
      "metadata": {
        "colab_type": "code",
        "outputId": "6b39f84d-baab-46a9-8542-23a44ef5c8f2",
        "id": "5IIFSJfVXxEf",
        "colab": {
          "base_uri": "https://localhost:8080/",
          "height": 35
        }
      },
      "source": [
        "from sklearn.metrics import accuracy_score\n",
        "\n",
        "print(\"LogisticRegression Classifier on PCA(n_components = 784) - Accuracy: \",accuracy_score(y_test, y_pred))"
      ],
      "execution_count": 0,
      "outputs": [
        {
          "output_type": "stream",
          "text": [
            "LogisticRegression Classifier on PCA(n_components = 784) - Accuracy:  0.8439\n"
          ],
          "name": "stdout"
        }
      ]
    }
  ]
}
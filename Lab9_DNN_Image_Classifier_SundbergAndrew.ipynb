{
  "nbformat": 4,
  "nbformat_minor": 0,
  "metadata": {
    "kernelspec": {
      "name": "python3",
      "display_name": "Python 3"
    },
    "language_info": {
      "codemirror_mode": {
        "name": "ipython",
        "version": 3
      },
      "file_extension": ".py",
      "mimetype": "text/x-python",
      "name": "python",
      "nbconvert_exporter": "python",
      "pygments_lexer": "ipython3",
      "version": "3.7.5"
    },
    "colab": {
      "name": "Lab9_DNN_Image_Classifier_SundbergAndrew.ipynb",
      "provenance": [],
      "collapsed_sections": [],
      "include_colab_link": true
    },
    "accelerator": "GPU"
  },
  "cells": [
    {
      "cell_type": "markdown",
      "metadata": {
        "id": "view-in-github",
        "colab_type": "text"
      },
      "source": [
        "<a href=\"https://colab.research.google.com/github/andrewsundberg/DS301/blob/master/Lab9_DNN_Image_Classifier_SundbergAndrew.ipynb\" target=\"_parent\"><img src=\"https://colab.research.google.com/assets/colab-badge.svg\" alt=\"Open In Colab\"/></a>"
      ]
    },
    {
      "cell_type": "code",
      "metadata": {
        "id": "xiWj6XO5DePj",
        "colab_type": "code",
        "outputId": "db3e868f-6b4e-4aad-e89f-d369f22a2d44",
        "colab": {
          "base_uri": "https://localhost:8080/",
          "height": 35
        }
      },
      "source": [
        "try:\n",
        "  # %tensorflow_version only exists in Colab.\n",
        "  %tensorflow_version 2.x\n",
        "except Exception:\n",
        "  pass"
      ],
      "execution_count": 1,
      "outputs": [
        {
          "output_type": "stream",
          "text": [
            "TensorFlow 2.x selected.\n"
          ],
          "name": "stdout"
        }
      ]
    },
    {
      "cell_type": "code",
      "metadata": {
        "id": "Af7QvI0QDgNJ",
        "colab_type": "code",
        "outputId": "17b3452c-38bf-4f1a-ec3a-000c4b856567",
        "colab": {
          "base_uri": "https://localhost:8080/",
          "height": 35
        }
      },
      "source": [
        "from __future__ import absolute_import, division, print_function, unicode_literals\n",
        "\n",
        "# TensorFlow and tf.keras\n",
        "import tensorflow as tf\n",
        "from tensorflow import keras\n",
        "\n",
        "# Helper libraries\n",
        "import numpy as np\n",
        "import matplotlib.pyplot as plt\n",
        "\n",
        "print(tf.__version__)"
      ],
      "execution_count": 2,
      "outputs": [
        {
          "output_type": "stream",
          "text": [
            "2.0.0\n"
          ],
          "name": "stdout"
        }
      ]
    },
    {
      "cell_type": "code",
      "metadata": {
        "id": "eW-SlyKrAktu",
        "colab_type": "code",
        "outputId": "ad415829-d787-4a5b-edb3-10e28b33468e",
        "colab": {
          "base_uri": "https://localhost:8080/",
          "height": 124
        }
      },
      "source": [
        "from google.colab import drive\n",
        "drive.mount('/content/drive')"
      ],
      "execution_count": 3,
      "outputs": [
        {
          "output_type": "stream",
          "text": [
            "Go to this URL in a browser: https://accounts.google.com/o/oauth2/auth?client_id=947318989803-6bn6qk8qdgf4n4g3pfee6491hc0brc4i.apps.googleusercontent.com&redirect_uri=urn%3aietf%3awg%3aoauth%3a2.0%3aoob&response_type=code&scope=email%20https%3a%2f%2fwww.googleapis.com%2fauth%2fdocs.test%20https%3a%2f%2fwww.googleapis.com%2fauth%2fdrive%20https%3a%2f%2fwww.googleapis.com%2fauth%2fdrive.photos.readonly%20https%3a%2f%2fwww.googleapis.com%2fauth%2fpeopleapi.readonly\n",
            "\n",
            "Enter your authorization code:\n",
            "··········\n",
            "Mounted at /content/drive\n"
          ],
          "name": "stdout"
        }
      ]
    },
    {
      "cell_type": "code",
      "metadata": {
        "id": "MIs1DcGFu3tQ",
        "colab_type": "code",
        "colab": {}
      },
      "source": [
        "#drive.mount(\"/content/drive\", force_remount=True)"
      ],
      "execution_count": 0,
      "outputs": []
    },
    {
      "cell_type": "code",
      "metadata": {
        "id": "EL-qC8b-NR8s",
        "colab_type": "code",
        "outputId": "1e8a0f21-46ef-4422-b592-5dc7f2bdb8da",
        "colab": {
          "base_uri": "https://localhost:8080/",
          "height": 35
        }
      },
      "source": [
        "from keras import backend as K"
      ],
      "execution_count": 5,
      "outputs": [
        {
          "output_type": "stream",
          "text": [
            "Using TensorFlow backend.\n"
          ],
          "name": "stderr"
        }
      ]
    },
    {
      "cell_type": "code",
      "metadata": {
        "id": "KP6pil3ADVo6",
        "colab_type": "code",
        "colab": {}
      },
      "source": [
        "img_width, img_height = 300,300\n"
      ],
      "execution_count": 0,
      "outputs": []
    },
    {
      "cell_type": "code",
      "metadata": {
        "id": "qW9dvWIgDVo7",
        "colab_type": "code",
        "colab": {}
      },
      "source": [
        "nb_train_samples = 1027\n",
        "nb_validation_samples = 256\n",
        "epochs = 50\n",
        "batch_size = 16"
      ],
      "execution_count": 0,
      "outputs": []
    },
    {
      "cell_type": "code",
      "metadata": {
        "id": "YW5PNufuDVo9",
        "colab_type": "code",
        "colab": {}
      },
      "source": [
        "\n",
        "if K.image_data_format() == 'channels_first':\n",
        "    input_shape = (3, img_width, img_height)\n",
        "else:\n",
        "    input_shape = (img_width, img_height, 3)"
      ],
      "execution_count": 0,
      "outputs": []
    },
    {
      "cell_type": "code",
      "metadata": {
        "id": "7vXyaiC8DVo-",
        "colab_type": "code",
        "colab": {}
      },
      "source": [
        "from keras.models import Sequential\n",
        "#from keras.layers import Conv2D, MaxPooling2D\n",
        "from keras.layers import Activation, Dropout, Flatten, Dense\n",
        "\n",
        "model = keras.Sequential([\n",
        "    keras.layers.Flatten(input_shape=(256, 256,3)),\n",
        "    keras.layers.Dense(128, activation='relu'),\n",
        "    keras.layers.Dense(10, activation='softmax')\n",
        "])"
      ],
      "execution_count": 0,
      "outputs": []
    },
    {
      "cell_type": "code",
      "metadata": {
        "id": "wChV_uIPDVo_",
        "colab_type": "code",
        "colab": {}
      },
      "source": [
        "model.compile(optimizer='adam',\n",
        "              loss='sparse_categorical_crossentropy',\n",
        "              metrics=['accuracy'])"
      ],
      "execution_count": 0,
      "outputs": []
    },
    {
      "cell_type": "code",
      "metadata": {
        "id": "ZfvkHZRDDVpB",
        "colab_type": "code",
        "colab": {}
      },
      "source": [
        "from keras_preprocessing.image import ImageDataGenerator\n",
        "datagen=ImageDataGenerator()\n",
        "train_datagen = ImageDataGenerator(\n",
        "        rescale=1./255)\n",
        "test_datagen = ImageDataGenerator(rescale=1./255)\n",
        "\n"
      ],
      "execution_count": 0,
      "outputs": []
    },
    {
      "cell_type": "code",
      "metadata": {
        "id": "S1fWKZ7bfe39",
        "colab_type": "code",
        "outputId": "6ee1c198-6c02-41fc-8fe0-070aac7560e0",
        "colab": {
          "base_uri": "https://localhost:8080/",
          "height": 35
        }
      },
      "source": [
        "ls"
      ],
      "execution_count": 11,
      "outputs": [
        {
          "output_type": "stream",
          "text": [
            "\u001b[0m\u001b[01;34mdrive\u001b[0m/  \u001b[01;34msample_data\u001b[0m/\n"
          ],
          "name": "stdout"
        }
      ]
    },
    {
      "cell_type": "code",
      "metadata": {
        "id": "mQwy-H1dfh_Y",
        "colab_type": "code",
        "outputId": "9d95ac51-8488-4e53-c1b9-7191042f9726",
        "colab": {
          "base_uri": "https://localhost:8080/",
          "height": 35
        }
      },
      "source": [
        "cd drive/\n"
      ],
      "execution_count": 12,
      "outputs": [
        {
          "output_type": "stream",
          "text": [
            "/content/drive\n"
          ],
          "name": "stdout"
        }
      ]
    },
    {
      "cell_type": "code",
      "metadata": {
        "id": "AY61BO5Ff22e",
        "colab_type": "code",
        "outputId": "05fb9a87-cb5d-433e-a16a-767af89ff31b",
        "colab": {
          "base_uri": "https://localhost:8080/",
          "height": 35
        }
      },
      "source": [
        "ls"
      ],
      "execution_count": 13,
      "outputs": [
        {
          "output_type": "stream",
          "text": [
            "\u001b[0m\u001b[01;34m'My Drive'\u001b[0m/\n"
          ],
          "name": "stdout"
        }
      ]
    },
    {
      "cell_type": "code",
      "metadata": {
        "id": "3YtRP6gyf8kO",
        "colab_type": "code",
        "outputId": "bd832a86-df99-4301-ccaf-0102343b2991",
        "colab": {
          "base_uri": "https://localhost:8080/",
          "height": 35
        }
      },
      "source": [
        "cd My\\ Drive"
      ],
      "execution_count": 14,
      "outputs": [
        {
          "output_type": "stream",
          "text": [
            "/content/drive/My Drive\n"
          ],
          "name": "stdout"
        }
      ]
    },
    {
      "cell_type": "code",
      "metadata": {
        "id": "snQuUUG2Zc--",
        "colab_type": "code",
        "outputId": "49611223-78de-4033-a983-86c991f636a7",
        "colab": {
          "base_uri": "https://localhost:8080/",
          "height": 901
        }
      },
      "source": [
        "ls"
      ],
      "execution_count": 15,
      "outputs": [
        {
          "output_type": "stream",
          "text": [
            "'2018 Western Conference Finals, Warriors @ Rockets.gsheet'\n",
            " AaronRodgersAaronJonesDoubleTrouble-min.png\n",
            " AaronRodgersAaronJonesDoubleTrouble.png\n",
            "'Andrew Sundberg Resume.gdoc'\n",
            "'Career Fair Reflection.gdoc'\n",
            " CBB2018.gsheet\n",
            "'Chapter 14: Listening in Partnerships.gdoc'\n",
            "\u001b[0m\u001b[01;34m'Colab Notebooks'\u001b[0m/\n",
            "'COMST 102 Paper 1.gdoc'\n",
            " cr_class.py\n",
            " cr_class.py.gdoc\n",
            " \u001b[01;34mdataset\u001b[0m/\n",
            " Dogs.gdoc\n",
            "'DS201X Exam 1 Sample questions.gdoc'\n",
            "\u001b[01;34m'English 150'\u001b[0m/\n",
            "\u001b[01;34m'English 250'\u001b[0m/\n",
            "'Fall 2016 Lifeguard Survey.docx'\n",
            "'Fall 2016 Lifeguard Survey.docx.gdoc'\n",
            "'Geology 100.gdoc'\n",
            "'Homework 1 (1).gsheet'\n",
            "'Homework 1.gsheet'\n",
            "'Homework 1.xlsx'\n",
            "'Homework Seven Write-up.docx'\n",
            "'Homework Seven Write-up.docx.gdoc'\n",
            "'Internship curriculum 11-30-16.docx'\n",
            "'John Deere Cover Letter.gdoc'\n",
            "'KIC Document 0001.pdf'\n",
            "'Lab 2.xlsx'\n",
            "'Mixtape (2).png'\n",
            " Mixtape.png\n",
            " Mixtape.xcf\n",
            " Most-Recent-Cohorts-All-Data-Elements.xlsx\n",
            "'My Route.docx'\n",
            "'My Route.docx.gdoc'\n",
            "'Nicholas Brothers.gslides'\n",
            "'Offline Homework 2.docx'\n",
            "'Offline Homework 2.gdoc'\n",
            "'personnafax--career analysis (9).pdf'\n",
            "'Psych Final Project.gdoc'\n",
            "'Resume (1).gdoc'\n",
            "'Resume 2.0.gdoc'\n",
            "'Resume for Fall 2018 without research.gdoc'\n",
            "'Resume for Spring 2019.gdoc'\n",
            " Resume.gdoc\n",
            " Solo_Cover.JPG\n",
            "'SP CM 110 Chapter 14 Sundberg.gdoc'\n",
            "'Spring 2017 Survey.docx'\n",
            "'Spring 2017 Survey.docx.gdoc'\n",
            "'Stats Helicopter project.gdoc'\n",
            "'Untitled spreadsheet.gsheet'\n",
            " \u001b[01;34mWork\u001b[0m/\n"
          ],
          "name": "stdout"
        }
      ]
    },
    {
      "cell_type": "code",
      "metadata": {
        "id": "4Ywna61Qf_Tl",
        "colab_type": "code",
        "outputId": "6ebd530d-6217-4717-c6f1-b0867257d2a3",
        "colab": {
          "base_uri": "https://localhost:8080/",
          "height": 35
        }
      },
      "source": [
        "cd dataset/"
      ],
      "execution_count": 16,
      "outputs": [
        {
          "output_type": "stream",
          "text": [
            "/content/drive/My Drive/dataset\n"
          ],
          "name": "stdout"
        }
      ]
    },
    {
      "cell_type": "code",
      "metadata": {
        "id": "zNtJY1hDgG3f",
        "colab_type": "code",
        "outputId": "7a2d7a07-8c7e-4a49-b096-615e4ac58424",
        "colab": {
          "base_uri": "https://localhost:8080/",
          "height": 35
        }
      },
      "source": [
        "ls"
      ],
      "execution_count": 17,
      "outputs": [
        {
          "output_type": "stream",
          "text": [
            " \u001b[0m\u001b[01;34mdogs-cats-images\u001b[0m/  \u001b[01;34m'dogs-cats-images (1)'\u001b[0m/   \u001b[01;34mhorses-or-humans-dataset\u001b[0m/\n"
          ],
          "name": "stdout"
        }
      ]
    },
    {
      "cell_type": "code",
      "metadata": {
        "id": "oEA59QceZlwV",
        "colab_type": "code",
        "outputId": "81e08902-151d-4949-9f23-d9e48c20346e",
        "colab": {
          "base_uri": "https://localhost:8080/",
          "height": 35
        }
      },
      "source": [
        "cd horses-or-humans-dataset/"
      ],
      "execution_count": 18,
      "outputs": [
        {
          "output_type": "stream",
          "text": [
            "/content/drive/My Drive/dataset/horses-or-humans-dataset\n"
          ],
          "name": "stdout"
        }
      ]
    },
    {
      "cell_type": "code",
      "metadata": {
        "id": "PboYP5UDZl38",
        "colab_type": "code",
        "outputId": "f9336f59-75f3-4543-9f00-8f2a75375b07",
        "colab": {
          "base_uri": "https://localhost:8080/",
          "height": 35
        }
      },
      "source": [
        "ls"
      ],
      "execution_count": 19,
      "outputs": [
        {
          "output_type": "stream",
          "text": [
            "\u001b[0m\u001b[01;34mtrain\u001b[0m/  \u001b[01;34mvalidation\u001b[0m/\n"
          ],
          "name": "stdout"
        }
      ]
    },
    {
      "cell_type": "code",
      "metadata": {
        "id": "qsYiUbIJZl8N",
        "colab_type": "code",
        "outputId": "6eb99fa5-b986-41c7-c49e-cd93c898ebbe",
        "colab": {
          "base_uri": "https://localhost:8080/",
          "height": 35
        }
      },
      "source": [
        "pwd"
      ],
      "execution_count": 20,
      "outputs": [
        {
          "output_type": "execute_result",
          "data": {
            "text/plain": [
              "'/content/drive/My Drive/dataset/horses-or-humans-dataset'"
            ]
          },
          "metadata": {
            "tags": []
          },
          "execution_count": 20
        }
      ]
    },
    {
      "cell_type": "code",
      "metadata": {
        "id": "BlpPa2gbNp5X",
        "colab_type": "code",
        "outputId": "a24612e0-92c1-430a-aadb-2909749aec19",
        "colab": {
          "base_uri": "https://localhost:8080/",
          "height": 52
        }
      },
      "source": [
        "#Sample images: Horses or Humans gerated images\n",
        "#train_data = train_datagen.flow_from_directory(r'/content/drive/My Drive/dataset/horses-or-humans-dataset/train',class_mode='binary')\n",
        "#test_data=test_datagen.flow_from_directory(r'/content/drive/My Drive/dataset/horses-or-humans-dataset/validation',class_mode='binary')\n"
      ],
      "execution_count": 21,
      "outputs": [
        {
          "output_type": "stream",
          "text": [
            "Found 1027 images belonging to 2 classes.\n",
            "Found 256 images belonging to 2 classes.\n"
          ],
          "name": "stdout"
        }
      ]
    },
    {
      "cell_type": "code",
      "metadata": {
        "id": "pcHp2omdN2bS",
        "colab_type": "code",
        "colab": {
          "base_uri": "https://localhost:8080/",
          "height": 52
        },
        "outputId": "ed152a0f-0fa8-4499-df85-86bfd6f77635"
      },
      "source": [
        "#Your task, use Dogs or Cats images instead.\n",
        "train_data = train_datagen.flow_from_directory(r'/content/drive/My Drive/dataset/dogs-cats-images/training_set',class_mode='binary')\n",
        "test_data=test_datagen.flow_from_directory(r'/content/drive/My Drive/dataset/dogs-cats-images/test_set',class_mode='binary')"
      ],
      "execution_count": 23,
      "outputs": [
        {
          "output_type": "stream",
          "text": [
            "Found 8000 images belonging to 2 classes.\n",
            "Found 2000 images belonging to 2 classes.\n"
          ],
          "name": "stdout"
        }
      ]
    },
    {
      "cell_type": "code",
      "metadata": {
        "id": "45toF5HaDVpC",
        "colab_type": "code",
        "outputId": "01ed3327-b612-4cae-dbef-79f183922c28",
        "colab": {
          "base_uri": "https://localhost:8080/",
          "height": 728
        }
      },
      "source": [
        "model.fit_generator(\n",
        "    train_data,\n",
        "    steps_per_epoch=nb_train_samples // batch_size/8,\n",
        "    epochs=20,\n",
        "    validation_data=test_data,\n",
        "    validation_steps=nb_validation_samples // batch_size)"
      ],
      "execution_count": 24,
      "outputs": [
        {
          "output_type": "stream",
          "text": [
            "Epoch 1/20\n",
            "8/8 [==============================] - 354s 44s/step - loss: 6.8660 - accuracy: 0.4766 - val_loss: 7.7128 - val_accuracy: 0.5215\n",
            "Epoch 2/20\n",
            "8/8 [==============================] - 4s 511ms/step - loss: 8.3739 - accuracy: 0.4805 - val_loss: 7.7128 - val_accuracy: 0.5215\n",
            "Epoch 3/20\n",
            "8/8 [==============================] - 69s 9s/step - loss: 8.0590 - accuracy: 0.5000 - val_loss: 7.7128 - val_accuracy: 0.5215\n",
            "Epoch 4/20\n",
            "8/8 [==============================] - 115s 14s/step - loss: 8.2479 - accuracy: 0.4883 - val_loss: 7.7128 - val_accuracy: 0.5215\n",
            "Epoch 5/20\n",
            "8/8 [==============================] - 113s 14s/step - loss: 7.8702 - accuracy: 0.5117 - val_loss: 7.7128 - val_accuracy: 0.5215\n",
            "Epoch 6/20\n",
            "8/8 [==============================] - 106s 13s/step - loss: 8.9405 - accuracy: 0.4453 - val_loss: 7.7128 - val_accuracy: 0.5215\n",
            "Epoch 7/20\n",
            "8/8 [==============================] - 116s 15s/step - loss: 7.5554 - accuracy: 0.5312 - val_loss: 7.7128 - val_accuracy: 0.5215\n",
            "Epoch 8/20\n",
            "8/8 [==============================] - 110s 14s/step - loss: 8.6257 - accuracy: 0.4648 - val_loss: 7.7128 - val_accuracy: 0.5215\n",
            "Epoch 9/20\n",
            "8/8 [==============================] - 129s 16s/step - loss: 8.5627 - accuracy: 0.4688 - val_loss: 7.7128 - val_accuracy: 0.5215\n",
            "Epoch 10/20\n",
            "8/8 [==============================] - 111s 14s/step - loss: 8.3739 - accuracy: 0.4805 - val_loss: 7.7128 - val_accuracy: 0.5215\n",
            "Epoch 11/20\n",
            "8/8 [==============================] - 108s 13s/step - loss: 8.1850 - accuracy: 0.4922 - val_loss: 7.7128 - val_accuracy: 0.5215\n",
            "Epoch 12/20\n",
            "8/8 [==============================] - 146s 18s/step - loss: 7.3665 - accuracy: 0.5430 - val_loss: 7.7128 - val_accuracy: 0.5215\n",
            "Epoch 13/20\n",
            "8/8 [==============================] - 119s 15s/step - loss: 7.1146 - accuracy: 0.5586 - val_loss: 7.7128 - val_accuracy: 0.5215\n",
            "Epoch 14/20\n",
            "8/8 [==============================] - 110s 14s/step - loss: 8.1850 - accuracy: 0.4922 - val_loss: 7.7128 - val_accuracy: 0.5215\n",
            "Epoch 15/20\n",
            "8/8 [==============================] - 112s 14s/step - loss: 8.2479 - accuracy: 0.4883 - val_loss: 7.7128 - val_accuracy: 0.5215\n",
            "Epoch 16/20\n",
            "8/8 [==============================] - 108s 14s/step - loss: 8.0590 - accuracy: 0.5000 - val_loss: 7.7128 - val_accuracy: 0.5215\n",
            "Epoch 17/20\n",
            "8/8 [==============================] - 110s 14s/step - loss: 9.2553 - accuracy: 0.4258 - val_loss: 7.7128 - val_accuracy: 0.5215\n",
            "Epoch 18/20\n",
            "8/8 [==============================] - 109s 14s/step - loss: 8.1850 - accuracy: 0.4922 - val_loss: 7.7128 - val_accuracy: 0.5215\n",
            "Epoch 19/20\n",
            "8/8 [==============================] - 112s 14s/step - loss: 7.8702 - accuracy: 0.5117 - val_loss: 7.7128 - val_accuracy: 0.5215\n",
            "Epoch 20/20\n",
            "8/8 [==============================] - 106s 13s/step - loss: 7.8072 - accuracy: 0.5156 - val_loss: 7.7128 - val_accuracy: 0.5215\n"
          ],
          "name": "stdout"
        },
        {
          "output_type": "execute_result",
          "data": {
            "text/plain": [
              "<tensorflow.python.keras.callbacks.History at 0x7fce5a152908>"
            ]
          },
          "metadata": {
            "tags": []
          },
          "execution_count": 24
        }
      ]
    },
    {
      "cell_type": "markdown",
      "metadata": {
        "id": "Y8LVIzb3afL9",
        "colab_type": "text"
      },
      "source": [
        "I changed the batch size and epachs and the accuracy is only 0.5215."
      ]
    }
  ]
}